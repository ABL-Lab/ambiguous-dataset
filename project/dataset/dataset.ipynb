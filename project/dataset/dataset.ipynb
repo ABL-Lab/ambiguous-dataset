{
 "cells": [
  {
   "cell_type": "code",
   "execution_count": 4,
   "id": "44644e75-e2d6-4428-9729-417cbf8fe861",
   "metadata": {},
   "outputs": [],
   "source": [
    "from project.dataset.dataset import EMNIST_fly, MNIST_fly, test_dataloader\n",
    "from project.models.cvae import Encoder, Decoder\n",
    "from torch.utils.data import *\n",
    "from torchvision.utils import save_image"
   ]
  },
  {
   "cell_type": "markdown",
   "id": "1f795aa2-8c09-4f57-a3d0-6293a16556fb",
   "metadata": {},
   "source": [
    "# EMNIST example"
   ]
  },
  {
   "cell_type": "code",
   "execution_count": 11,
   "id": "687b5df1-b4ee-4118-a719-e5ec67f976e8",
   "metadata": {},
   "outputs": [],
   "source": [
    "dataset=EMNIST_fly('/share/datasets',blend=0.5)\n",
    "ambiguousDataLoader = DataLoader(dataset, batch_size=64, shuffle=True)\n",
    "test_dataloader(ambiguousDataLoader, 'project/emnist_examples.pdf')"
   ]
  },
  {
   "cell_type": "markdown",
   "id": "4a5a0dba-b80f-4f87-979d-64096098eaf2",
   "metadata": {},
   "source": [
    "# MNIST example"
   ]
  },
  {
   "cell_type": "code",
   "execution_count": 9,
   "id": "e3b56aa0-2b4f-4811-a40f-828a0e46f78d",
   "metadata": {},
   "outputs": [],
   "source": [
    "dataset=MNIST_fly('/share/datasets',blend=0.5)\n",
    "ambiguousDataLoader = DataLoader(dataset, batch_size=64, shuffle=True)\n",
    "test_dataloader(ambiguousDataLoader, 'project/mnist_examples.pdf')"
   ]
  }
 ],
 "metadata": {
  "kernelspec": {
   "display_name": "Python 3.8.5 64-bit ('dev-2021-02-py38': venv)",
   "language": "python",
   "name": "python38564bitdev202102py38venved5311bfb7744d6caaf9ece0ad44c9d0"
  },
  "language_info": {
   "codemirror_mode": {
    "name": "ipython",
    "version": 3
   },
   "file_extension": ".py",
   "mimetype": "text/x-python",
   "name": "python",
   "nbconvert_exporter": "python",
   "pygments_lexer": "ipython3",
   "version": "3.8.5"
  }
 },
 "nbformat": 4,
 "nbformat_minor": 5
}
