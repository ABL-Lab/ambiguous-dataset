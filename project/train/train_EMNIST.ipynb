{
 "cells": [
  {
   "cell_type": "markdown",
   "metadata": {},
   "source": [
    "# EMNIST"
   ]
  },
  {
   "cell_type": "code",
   "execution_count": 1,
   "metadata": {
    "tags": []
   },
   "outputs": [
    {
     "name": "stderr",
     "output_type": "stream",
     "text": [
      "/home/nislah/.vmgr_repo/dev-2021-02-py38/lib/python3.8/site-packages/pytorch_lightning/metrics/__init__.py:43: LightningDeprecationWarning: `pytorch_lightning.metrics.*` module has been renamed to `torchmetrics.*` and split off to its own package (https://github.com/PyTorchLightning/metrics) since v1.3 and will be removed in v1.5\n",
      "  rank_zero_deprecation(\n"
     ]
    }
   ],
   "source": [
    "# Import dependencies\n",
    "import os\n",
    "import importlib\n",
    "import numpy as np\n",
    "import matplotlib.pyplot as plt\n",
    "import time\n",
    "import torchvision\n",
    "import seaborn as sns\n",
    "import numpy as np\n",
    "import pytorch_lightning as pl\n",
    "import torch.nn.functional as F\n",
    "import torchvision\n",
    "from torchvision import datasets, transforms\n",
    "from torch import nn, optim\n",
    "from torch.utils.data import DataLoader\n",
    "from torchvision.utils import save_image\n",
    "import torch\n",
    "from tqdm import tqdm\n",
    "from datetime import datetime\n",
    "import yaml\n",
    "import h5py\n",
    "from copy import deepcopy\n",
    "from project.models.cvae import *"
   ]
  },
  {
   "cell_type": "code",
   "execution_count": 2,
   "metadata": {},
   "outputs": [
    {
     "name": "stdout",
     "output_type": "stream",
     "text": [
      "cuda\n"
     ]
    }
   ],
   "source": [
    "# Use GPU if available\n",
    "device = torch.device(\"cuda\" if torch.cuda.is_available() else \"cpu\")\n",
    "# Seed for reproducibility\n",
    "torch.manual_seed(42)\n",
    "print(device)"
   ]
  },
  {
   "cell_type": "code",
   "execution_count": 3,
   "metadata": {},
   "outputs": [
    {
     "name": "stdout",
     "output_type": "stream",
     "text": [
      "__init__.py  train_EMNIST_cvae.py  train_template.py\n",
      "tb_logs      train_EMNIST.ipynb\n"
     ]
    }
   ],
   "source": [
    "!ls"
   ]
  },
  {
   "cell_type": "code",
   "execution_count": 4,
   "metadata": {
    "tags": []
   },
   "outputs": [],
   "source": [
    "# Create the working directory from timestamp and model name\n",
    "model_name = 'cvae_emnist' # invertible network\n",
    "now = datetime.now()\n",
    "timestamp = now.strftime(\"%Y%m%d_%H%M%S\")\n",
    "workingDir = f'tb_logs/{model_name}_{timestamp}'\n",
    "os.mkdir(workingDir)"
   ]
  },
  {
   "cell_type": "code",
   "execution_count": 5,
   "metadata": {
    "tags": []
   },
   "outputs": [],
   "source": [
    "# Create configuration file\n",
    "configDict = {\n",
    "'workingDir': workingDir,\n",
    "'timestamp' : timestamp,\n",
    "#'dataset': 'MNIST', # Define working dataset\n",
    "'model': model_name, # Model\n",
    "'lr': 1e-3, # Learning rate\n",
    "'batch_size': 64,\n",
    "'n_epochs': 50,\n",
    "'kernel_size': 4, # kernel size\n",
    "\"init_channels\": 8, # initial number of filters\n",
    "\"image_channels\": 1, # 1 for MNIST (grayscale)\n",
    "\"latent_dim\": 4 # latent dimension for sampling\n",
    "}\n",
    "\n",
    "with open(f'{workingDir}/config.yaml', 'w') as file:\n",
    "    documents = yaml.dump(configDict, file)"
   ]
  },
  {
   "cell_type": "code",
   "execution_count": 6,
   "metadata": {
    "tags": []
   },
   "outputs": [
    {
     "data": {
      "text/plain": [
       "{'batch_size': 64,\n",
       " 'image_channels': 1,\n",
       " 'init_channels': 8,\n",
       " 'kernel_size': 4,\n",
       " 'latent_dim': 4,\n",
       " 'lr': 0.001,\n",
       " 'model': 'cvae_emnist',\n",
       " 'n_epochs': 50,\n",
       " 'timestamp': '20220118_124928',\n",
       " 'workingDir': 'tb_logs/cvae_emnist_20220118_124928'}"
      ]
     },
     "execution_count": 6,
     "metadata": {},
     "output_type": "execute_result"
    }
   ],
   "source": [
    "# Load configuration file\n",
    "with open(f'{workingDir}/config.yaml','r') as file:\n",
    "    params = yaml.load(file, Loader=yaml.FullLoader)\n",
    "params"
   ]
  },
  {
   "cell_type": "code",
   "execution_count": 7,
   "metadata": {
    "tags": []
   },
   "outputs": [],
   "source": [
    "# Import parameters and construct model and optimizers\n",
    "lr=params['lr']\n",
    "batch_size=params['batch_size']\n",
    "n_epochs=params['n_epochs']\n",
    "kernel_size=params['kernel_size'] # kernel size\n",
    "init_channels=params['init_channels'] # initial number of filters\n",
    "image_channels=params['image_channels'] # 1 for MNIST (grayscale)\n",
    "latent_dim=params['latent_dim'] # latent dimension for sampling\n",
    "TRAIN_CVAE = True\n",
    "TRAIN_VAE = False\n",
    "PLOT_VAE = False\n",
    "TRAIN_READOUT = False\n",
    "TRAIN_READIN = False"
   ]
  },
  {
   "cell_type": "code",
   "execution_count": 8,
   "metadata": {
    "tags": []
   },
   "outputs": [],
   "source": [
    "# Define datasets\n",
    "# Prepare the data loader for the MNIST dataset:\n",
    "transform = transforms.Compose([transforms.ToTensor()])#,  transforms.Resize((32,32))]) # Dataset transform #  lambda x: (x>0.5).float(),\n",
    "dataset = datasets.EMNIST(root='/share/datasets', download=False, split='letters', train=True, transform=transform)\n",
    "train_set, val_set = torch.utils.data.random_split(dataset, [100000, 24800])\n",
    "test_set = datasets.EMNIST(root='/share/datasets', download=False, split='letters', train=False, transform=transform)\n",
    "# dataset = datasets.MNIST(root='/share/datasets', download=False, train=True, transform=transform)\n",
    "# train_set, val_set = torch.utils.data.random_split(dataset, [50000, 10000])\n",
    "\n",
    "# Dataloaders\n",
    "train_loader = DataLoader(train_set, batch_size=batch_size, num_workers=12, shuffle=True)\n",
    "val_loader = DataLoader(val_set, batch_size=batch_size, num_workers=12, shuffle=False)\n",
    "test_loader = DataLoader(test_set, batch_size=batch_size, num_workers=12, shuffle=False)"
   ]
  },
  {
   "cell_type": "code",
   "execution_count": 9,
   "metadata": {},
   "outputs": [
    {
     "data": {
      "image/png": "[encoded data removed]",
      "text/plain": [
       "<Figure size 432x288 with 1 Axes>"
      ]
     },
     "metadata": {
      "needs_background": "light"
     },
     "output_type": "display_data"
    }
   ],
   "source": [
    "plt.imshow(next(iter(train_loader))[0][0].permute(1,2,0))\n",
    "x,t=next(iter(train_loader))\n",
    "x0,t0=x[0],t[0]"
   ]
  },
  {
   "cell_type": "code",
   "execution_count": 10,
   "metadata": {},
   "outputs": [],
   "source": [
    "# !tensorboard --logdir=./tb_logs"
   ]
  },
  {
   "cell_type": "code",
   "execution_count": 11,
   "metadata": {
    "tags": []
   },
   "outputs": [
    {
     "name": "stderr",
     "output_type": "stream",
     "text": [
      "GPU available: True, used: True\n",
      "TPU available: False, using: 0 TPU cores\n",
      "LOCAL_RANK: 0 - CUDA_VISIBLE_DEVICES: [0]\n",
      "\n",
      "  | Name    | Type           | Params\n",
      "-------------------------------------------\n",
      "0 | encoder | EMNIST_Encoder | 419 K \n",
      "1 | decoder | EMNIST_Decoder | 418 K \n",
      "-------------------------------------------\n",
      "837 K     Trainable params\n",
      "0         Non-trainable params\n",
      "837 K     Total params\n",
      "3.350     Total estimated model params size (MB)\n"
     ]
    },
    {
     "name": "stdout",
     "output_type": "stream",
     "text": [
      "EMNIST_CVAE(\n",
      "  (encoder): EMNIST_Encoder(\n",
      "    (MLP): Sequential(\n",
      "      (L0): Linear(in_features=810, out_features=512, bias=True)\n",
      "      (A0): ReLU()\n",
      "    )\n",
      "    (fc_mu): Linear(in_features=512, out_features=4, bias=True)\n",
      "    (fc_logvar): Linear(in_features=512, out_features=4, bias=True)\n",
      "  )\n",
      "  (decoder): EMNIST_Decoder(\n",
      "    (MLP): Sequential(\n",
      "      (L0): Linear(in_features=30, out_features=512, bias=True)\n",
      "      (A0): ReLU()\n",
      "      (L1): Linear(in_features=512, out_features=784, bias=True)\n",
      "      (sigmoid): Sigmoid()\n",
      "    )\n",
      "  )\n",
      ")\n",
      "Epoch 0:  80%|████████████████████████████████████████████████▊            | 1563/1951 [00:07<00:01, 206.06it/s, loss=194, v_num=2]\n",
      "Validating: 0it [00:00, ?it/s]\u001b[A\n",
      "Validating:   0%|                                                                                          | 0/388 [00:00<?, ?it/s]\u001b[A\n",
      "Epoch 0:  80%|█████████████████████████████████████████████████            | 1569/1951 [00:08<00:01, 194.85it/s, loss=194, v_num=2]\u001b[A\n",
      "Epoch 0:  83%|██████████████████████████████████████████████████▊          | 1624/1951 [00:08<00:01, 199.19it/s, loss=194, v_num=2]\u001b[A\n",
      "Epoch 0:  86%|████████████████████████████████████████████████████▌        | 1681/1951 [00:08<00:01, 203.67it/s, loss=194, v_num=2]\u001b[A\n",
      "Epoch 0:  89%|██████████████████████████████████████████████████████▎      | 1738/1951 [00:08<00:01, 208.00it/s, loss=194, v_num=2]\u001b[A\n",
      "Epoch 0:  92%|████████████████████████████████████████████████████████     | 1795/1951 [00:08<00:00, 212.20it/s, loss=194, v_num=2]\u001b[A\n",
      "Epoch 0:  95%|█████████████████████████████████████████████████████████▉   | 1853/1951 [00:08<00:00, 216.47it/s, loss=194, v_num=2]\u001b[A\n",
      "Epoch 0: 100%|█████████████████████████████████████████████████████████████| 1951/1951 [00:19<00:00, 102.14it/s, loss=194, v_num=2]\u001b[A\n",
      "Epoch 0: 100%|██████████████████████████████████████████████████████████████| 1951/1951 [00:22<00:00, 87.88it/s, loss=194, v_num=2]\u001b[A\n",
      "Epoch 1:  36%|██████████████████████▏                                       | 698/1951 [00:04<00:07, 172.52it/s, loss=189, v_num=2]\u001b[A"
     ]
    },
    {
     "name": "stderr",
     "output_type": "stream",
     "text": [
      "/home/nislah/.vmgr_repo/dev-2021-02-py38/lib/python3.8/site-packages/pytorch_lightning/trainer/trainer.py:895: UserWarning: Detected KeyboardInterrupt, attempting graceful shutdown...\n",
      "  rank_zero_warn('Detected KeyboardInterrupt, attempting graceful shutdown...')\n"
     ]
    },
    {
     "name": "stdout",
     "output_type": "stream",
     "text": [
      "Epoch 1:  36%|██████████████████████▌                                        | 698/1951 [00:16<00:30, 41.35it/s, loss=189, v_num=2]"
     ]
    }
   ],
   "source": [
    "tb_logger = TensorBoardLogger('tb_logs', name=model_name)\n",
    "enc_layers = [28*28, 512]\n",
    "dec_layers = [512, 28*28]\n",
    "model = EMNIST_CVAE(latent_dim, enc_layers, dec_layers, n_classes=26, conditional=True).to(device)\n",
    "print(model)\n",
    "trainer = pl.Trainer(\n",
    "                     gpus=1,\n",
    "                     logger=tb_logger,\n",
    "                     max_epochs=100,\n",
    "#                      callbacks=[\n",
    "#                          pl.callbacks.early_stopping.EarlyStopping(\n",
    "#                              monitor='Val/Loss',\n",
    "#                              mode='min',\n",
    "#                              patience=5\n",
    "#                          )\n",
    "#                      ],\n",
    "                    auto_lr_find=True)\n",
    "trainer.fit(model, train_dataloader=train_loader, val_dataloaders=val_loader)"
   ]
  },
  {
   "cell_type": "code",
   "execution_count": null,
   "metadata": {},
   "outputs": [],
   "source": []
  }
 ],
 "metadata": {
  "interpreter": {
   "hash": "56b94a22e0b30145bc461d50c8481827ccfe484109677afaff2bcdc486ba3cbc"
  },
  "kernelspec": {
   "display_name": "Python 3.8.5 64-bit ('dev-2021-02-py38': venv)",
   "language": "python",
   "name": "python38564bitdev202102py38venved5311bfb7744d6caaf9ece0ad44c9d0"
  },
  "language_info": {
   "codemirror_mode": {
    "name": "ipython",
    "version": 3
   },
   "file_extension": ".py",
   "mimetype": "text/x-python",
   "name": "python",
   "nbconvert_exporter": "python",
   "pygments_lexer": "ipython3",
   "version": "3.8.5"
  },
  "metadata": {
   "interpreter": {
    "hash": "56b94a22e0b30145bc461d50c8481827ccfe484109677afaff2bcdc486ba3cbc"
   }
  }
 },
 "nbformat": 4,
 "nbformat_minor": 4
}
