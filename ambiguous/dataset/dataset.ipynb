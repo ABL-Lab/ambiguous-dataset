{
 "cells": [
  {
   "cell_type": "code",
   "execution_count": null,
   "id": "44644e75-e2d6-4428-9729-417cbf8fe861",
   "metadata": {},
   "outputs": [],
   "source": [
    "%load_ext autoreload\n",
    "%autoreload 2\n",
    "from ambiguous.dataset.dataset import *"
   ]
  },
  {
   "cell_type": "markdown",
   "id": "1f795aa2-8c09-4f57-a3d0-6293a16556fb",
   "metadata": {},
   "source": [
    "# EMNIST example"
   ]
  },
  {
   "cell_type": "code",
   "execution_count": null,
   "id": "384cd12a-1328-41aa-8e10-f056bc9c4dcc",
   "metadata": {},
   "outputs": [],
   "source": [
    "save_dataset_to_file(dataset_name='EMNIST',\n",
    "                     og_root='/share/datasets/',\n",
    "                     new_root='/home/nislah/ambiguous-dataset/ambiguous/data/EMNIST/',\n",
    "                     blend=0.5) # can specify pairs as argument, otherwise uses default from dataset.py"
   ]
  },
  {
   "cell_type": "code",
   "execution_count": null,
   "id": "7a54adb3-4ef4-44d7-9b01-b42e85001d2d",
   "metadata": {},
   "outputs": [],
   "source": [
    "trainset = DatasetFromNPY('/home/nislah/ambiguous-dataset/ambiguous/data/EMNIST', train=True)\n",
    "testset = DatasetFromNPY('/home/nislah/ambiguous-dataset/ambiguous/data/EMNIST', train=False)\n",
    "trainloader = DataLoader(trainset, batch_size=64, shuffle=True)\n",
    "testloader = DataLoader(testset, batch_size=64, shuffle=True)\n",
    "print(len(trainset), len(testset))\n",
    "x, t = next(iter(trainloader))\n",
    "i = 0\n",
    "x.shape, [(t[0][i], t[1][i]) for i in range(5)]"
   ]
  },
  {
   "cell_type": "code",
   "execution_count": null,
   "id": "f6f9014c-d565-4003-bb8b-cce88a08acb4",
   "metadata": {},
   "outputs": [],
   "source": [
    "plt.figure(figsize=(8,8))\n",
    "plt.imshow(make_grid(x, nrow=8).detach().cpu().permute(2,1,0))\n",
    "plt.axis('off')"
   ]
  },
  {
   "cell_type": "markdown",
   "id": "4a5a0dba-b80f-4f87-979d-64096098eaf2",
   "metadata": {},
   "source": [
    "# MNIST example"
   ]
  },
  {
   "cell_type": "code",
   "execution_count": null,
   "id": "65016bf7-dd67-4ebc-b571-0d6a428cf95c",
   "metadata": {
    "tags": []
   },
   "outputs": [],
   "source": [
    "save_dataset_to_file('MNIST', '/share/datasets/', '/home/nislah/ambiguous-dataset/ambiguous/data/MNIST/',blend=0.5)"
   ]
  },
  {
   "cell_type": "code",
   "execution_count": null,
   "id": "bb60bb8a-aacc-4499-bd8a-c680898ee586",
   "metadata": {},
   "outputs": [],
   "source": [
    "trainset = DatasetFromNPY('/home/nislah/ambiguous-dataset/ambiguous/data/MNIST/', train=True)\n",
    "testset = DatasetFromNPY('/home/nislah/ambiguous-dataset/ambiguous/data/MNIST/', train=False)\n",
    "trainloader = DataLoader(trainset, batch_size=64, shuffle=True)\n",
    "testloader = DataLoader(testset, batch_size=64, shuffle=True)\n",
    "print(len(trainset), len(testset))\n",
    "x, t = next(iter(trainloader))\n",
    "i = 0\n",
    "x.shape, t[0][i], t[1][i]"
   ]
  },
  {
   "cell_type": "code",
   "execution_count": null,
   "id": "6b503d70-caa1-4b8d-aea4-83b05df5b148",
   "metadata": {},
   "outputs": [],
   "source": [
    "plt.figure(figsize=(8,8))\n",
    "plt.imshow(make_grid(x, nrow=8).detach().cpu().permute(1,2,0))\n",
    "plt.axis('off')"
   ]
  },
  {
   "cell_type": "code",
   "execution_count": null,
   "id": "a39d016f-8f4b-4e4b-ada5-88bb7f06feb7",
   "metadata": {},
   "outputs": [],
   "source": []
  }
 ],
 "metadata": {
  "kernelspec": {
   "display_name": "Python 3.8.5 64-bit ('dev-2021-02-py38': venv)",
   "language": "python",
   "name": "python38564bitdev202102py38venved5311bfb7744d6caaf9ece0ad44c9d0"
  },
  "language_info": {
   "codemirror_mode": {
    "name": "ipython",
    "version": 3
   },
   "file_extension": ".py",
   "mimetype": "text/x-python",
   "name": "python",
   "nbconvert_exporter": "python",
   "pygments_lexer": "ipython3",
   "version": "3.8.5"
  }
 },
 "nbformat": 4,
 "nbformat_minor": 5
}
