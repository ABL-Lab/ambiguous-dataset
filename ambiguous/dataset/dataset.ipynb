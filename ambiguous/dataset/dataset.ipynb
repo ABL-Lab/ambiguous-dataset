{
 "cells": [
  {
   "cell_type": "code",
   "execution_count": 1,
   "id": "44644e75-e2d6-4428-9729-417cbf8fe861",
   "metadata": {},
   "outputs": [
    {
     "name": "stderr",
     "output_type": "stream",
     "text": [
      "/home/nislah/.vmgr_repo/dev-2021-02-py38/lib/python3.8/site-packages/pytorch_lightning/metrics/__init__.py:43: LightningDeprecationWarning: `pytorch_lightning.metrics.*` module has been renamed to `torchmetrics.*` and split off to its own package (https://github.com/PyTorchLightning/metrics) since v1.3 and will be removed in v1.5\n",
      "  rank_zero_deprecation(\n"
     ]
    }
   ],
   "source": [
    "%load_ext autoreload\n",
    "%autoreload 2\n",
    "from ambiguous.dataset.dataset import *"
   ]
  },
  {
   "cell_type": "markdown",
   "id": "1f795aa2-8c09-4f57-a3d0-6293a16556fb",
   "metadata": {},
   "source": [
    "# EMNIST example"
   ]
  },
  {
   "cell_type": "code",
   "execution_count": 2,
   "id": "687b5df1-b4ee-4118-a719-e5ec67f976e8",
   "metadata": {
    "tags": []
   },
   "outputs": [],
   "source": [
    "dataset=EMNIST_fly('/share/datasets',blend=0.5)\n",
    "ambiguousDataLoader = DataLoader(dataset, batch_size=64, num_workers=0, shuffle=True)\n",
    "save_examples(ambiguousDataLoader, 'emnist_examples.pdf')"
   ]
  },
  {
   "cell_type": "markdown",
   "id": "4a5a0dba-b80f-4f87-979d-64096098eaf2",
   "metadata": {},
   "source": [
    "# MNIST example"
   ]
  },
  {
   "cell_type": "code",
   "execution_count": 3,
   "id": "e3b56aa0-2b4f-4811-a40f-828a0e46f78d",
   "metadata": {
    "tags": []
   },
   "outputs": [],
   "source": [
    "dataset=MNIST_fly('/share/datasets',blend=0.5)\n",
    "ambiguousDataLoader = DataLoader(dataset, batch_size=64, num_workers=0, shuffle=True)\n",
    "save_examples(ambiguousDataLoader, 'mnist_examples.pdf')"
   ]
  },
  {
   "cell_type": "code",
   "execution_count": null,
   "id": "65016bf7-dd67-4ebc-b571-0d6a428cf95c",
   "metadata": {
    "tags": []
   },
   "outputs": [
    {
     "name": "stderr",
     "output_type": "stream",
     "text": [
      " 44%|███████████████████████▍                             | 266/600 [02:12<02:54,  1.92it/s]"
     ]
    }
   ],
   "source": [
    "save_aMNIST_to_file('/home/nislah/ambiguous-dataset/ambiguous/data/MNIST/',blend=0.5)"
   ]
  },
  {
   "cell_type": "code",
   "execution_count": null,
   "id": "bb60bb8a-aacc-4499-bd8a-c680898ee586",
   "metadata": {},
   "outputs": [],
   "source": [
    "trainset = DatasetFromFile('/home/nislah/ambiguous-dataset/ambiguous/data/MNIST/train/')\n",
    "trainloader = DataLoader(trainset, batch_size=64, shuffle=True)\n",
    "x, t = next(iter(trainloader))\n",
    "i = 0\n",
    "x.shape, t[0][i], t[1][i]"
   ]
  },
  {
   "cell_type": "code",
   "execution_count": null,
   "id": "6b503d70-caa1-4b8d-aea4-83b05df5b148",
   "metadata": {},
   "outputs": [],
   "source": [
    "plt.imshow(x[0].detach().cpu().permute(1,2,0))"
   ]
  },
  {
   "cell_type": "code",
   "execution_count": null,
   "id": "55fa125c-179e-4c02-8738-9f31d327b9b0",
   "metadata": {},
   "outputs": [],
   "source": [
    "for i in tqdm.tqdm(enumerate(range(1000))):\n",
    "    x, t = next(iter(trainloader))"
   ]
  },
  {
   "cell_type": "code",
   "execution_count": null,
   "id": "7a63a9aa-0556-4ae3-89a9-deb3ee00b957",
   "metadata": {},
   "outputs": [],
   "source": [
    "len(trainset)"
   ]
  },
  {
   "cell_type": "code",
   "execution_count": null,
   "id": "68e59705-e891-4208-8fd0-fbd69c570a45",
   "metadata": {},
   "outputs": [],
   "source": []
  }
 ],
 "metadata": {
  "kernelspec": {
   "display_name": "Python 3.8.5 64-bit ('dev-2021-02-py38': venv)",
   "language": "python",
   "name": "python38564bitdev202102py38venved5311bfb7744d6caaf9ece0ad44c9d0"
  },
  "language_info": {
   "codemirror_mode": {
    "name": "ipython",
    "version": 3
   },
   "file_extension": ".py",
   "mimetype": "text/x-python",
   "name": "python",
   "nbconvert_exporter": "python",
   "pygments_lexer": "ipython3",
   "version": "3.8.5"
  }
 },
 "nbformat": 4,
 "nbformat_minor": 5
}
