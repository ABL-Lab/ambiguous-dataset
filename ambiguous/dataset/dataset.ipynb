{
 "cells": [
  {
   "cell_type": "code",
   "execution_count": 81,
   "id": "44644e75-e2d6-4428-9729-417cbf8fe861",
   "metadata": {},
   "outputs": [
    {
     "name": "stdout",
     "output_type": "stream",
     "text": [
      "The autoreload extension is already loaded. To reload it, use:\n",
      "  %reload_ext autoreload\n"
     ]
    }
   ],
   "source": [
    "%load_ext autoreload\n",
    "%autoreload 2\n",
    "from ambiguous.dataset.dataset import *"
   ]
  },
  {
   "cell_type": "markdown",
   "id": "1f795aa2-8c09-4f57-a3d0-6293a16556fb",
   "metadata": {},
   "source": [
    "# EMNIST example"
   ]
  },
  {
   "cell_type": "code",
   "execution_count": 73,
   "id": "687b5df1-b4ee-4118-a719-e5ec67f976e8",
   "metadata": {
    "tags": []
   },
   "outputs": [],
   "source": [
    "dataset = aEMNIST_fly('/share/datasets',blend=0.5)\n",
    "ambiguousDataLoader = DataLoader(dataset, batch_size=64, num_workers=0, shuffle=True)\n",
    "save_examples(ambiguousDataLoader, 'emnist_examples.pdf')"
   ]
  },
  {
   "cell_type": "markdown",
   "id": "4a5a0dba-b80f-4f87-979d-64096098eaf2",
   "metadata": {},
   "source": [
    "# MNIST example"
   ]
  },
  {
   "cell_type": "code",
   "execution_count": 74,
   "id": "e3b56aa0-2b4f-4811-a40f-828a0e46f78d",
   "metadata": {
    "tags": []
   },
   "outputs": [],
   "source": [
    "dataset = aMNIST_fly('/share/datasets',blend=0.5)\n",
    "ambiguousDataLoader = DataLoader(dataset, batch_size=64, num_workers=0, shuffle=True)\n",
    "save_examples(ambiguousDataLoader, 'mnist_examples.pdf')"
   ]
  },
  {
   "cell_type": "code",
   "execution_count": 42,
   "id": "65016bf7-dd67-4ebc-b571-0d6a428cf95c",
   "metadata": {
    "tags": []
   },
   "outputs": [
    {
     "name": "stderr",
     "output_type": "stream",
     "text": [
      "100%|█████████████████████████████████████████████████████| 600/600 [04:19<00:00,  2.31it/s]\n"
     ]
    }
   ],
   "source": [
    "save_aMNIST_to_file('/home/nislah/ambiguous-dataset/ambiguous/data/MNIST/',blend=0.5)"
   ]
  },
  {
   "cell_type": "code",
   "execution_count": 79,
   "id": "bb60bb8a-aacc-4499-bd8a-c680898ee586",
   "metadata": {},
   "outputs": [
    {
     "name": "stdout",
     "output_type": "stream",
     "text": [
      "60000 10000\n"
     ]
    },
    {
     "data": {
      "text/plain": [
       "(torch.Size([64, 1, 28, 28]), tensor(6), tensor(8))"
      ]
     },
     "execution_count": 79,
     "metadata": {},
     "output_type": "execute_result"
    }
   ],
   "source": [
    "trainset = aMNIST('/home/nislah/ambiguous-dataset/ambiguous/data/', train=True)\n",
    "testset = aMNIST('/home/nislah/ambiguous-dataset/ambiguous/data/', train=False)\n",
    "trainloader = DataLoader(trainset, batch_size=64, shuffle=True)\n",
    "testloader = DataLoader(testset, batch_size=64, shuffle=True)\n",
    "print(len(trainset), len(testset))\n",
    "x, t = next(iter(trainloader))\n",
    "i = 0\n",
    "x.shape, t[0][i], t[1][i]"
   ]
  },
  {
   "cell_type": "code",
   "execution_count": 80,
   "id": "6b503d70-caa1-4b8d-aea4-83b05df5b148",
   "metadata": {},
   "outputs": [
    {
     "data": {
      "text/plain": [
       "<matplotlib.image.AxesImage at 0x7f5aa2282310>"
      ]
     },
     "execution_count": 80,
     "metadata": {},
     "output_type": "execute_result"
    },
    {
     "data": {
      "image/png": "[encoded data removed]",
      "text/plain": [
       "<Figure size 432x288 with 1 Axes>"
      ]
     },
     "metadata": {
      "needs_background": "light"
     },
     "output_type": "display_data"
    }
   ],
   "source": [
    "plt.imshow(x[0].detach().cpu().permute(1,2,0))"
   ]
  },
  {
   "cell_type": "code",
   "execution_count": null,
   "id": "a39d016f-8f4b-4e4b-ada5-88bb7f06feb7",
   "metadata": {},
   "outputs": [],
   "source": []
  }
 ],
 "metadata": {
  "kernelspec": {
   "display_name": "Python 3.8.5 64-bit ('dev-2021-02-py38': venv)",
   "language": "python",
   "name": "python38564bitdev202102py38venved5311bfb7744d6caaf9ece0ad44c9d0"
  },
  "language_info": {
   "codemirror_mode": {
    "name": "ipython",
    "version": 3
   },
   "file_extension": ".py",
   "mimetype": "text/x-python",
   "name": "python",
   "nbconvert_exporter": "python",
   "pygments_lexer": "ipython3",
   "version": "3.8.5"
  }
 },
 "nbformat": 4,
 "nbformat_minor": 5
}
